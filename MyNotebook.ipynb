{
 "cells": [
  {
   "cell_type": "markdown",
   "id": "f44744c1-cba5-4b61-b85e-85707953dbf1",
   "metadata": {},
   "source": [
    "Notebook by Malte"
   ]
  },
  {
   "cell_type": "code",
   "execution_count": 2,
   "id": "bcae5115-84b9-4d38-be7d-03309b2dedae",
   "metadata": {},
   "outputs": [
    {
     "data": {
      "text/plain": [
       "2"
      ]
     },
     "execution_count": 2,
     "metadata": {},
     "output_type": "execute_result"
    }
   ],
   "source": [
    "1+1"
   ]
  },
  {
   "cell_type": "code",
   "execution_count": null,
   "id": "7dfa2e63-91a0-4525-9287-6f8c03b8d3ee",
   "metadata": {},
   "outputs": [],
   "source": []
  }
 ],
 "metadata": {
  "kernelspec": {
   "display_name": "Python 3 (ipykernel)",
   "language": "python",
   "name": "python3"
  },
  "language_info": {
   "codemirror_mode": {
    "name": "ipython",
    "version": 3
   },
   "file_extension": ".py",
   "mimetype": "text/x-python",
   "name": "python",
   "nbconvert_exporter": "python",
   "pygments_lexer": "ipython3",
   "version": "3.9.12"
  }
 },
 "nbformat": 4,
 "nbformat_minor": 5
}
